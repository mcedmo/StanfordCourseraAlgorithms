{
 "metadata": {
  "language_info": {
   "codemirror_mode": {
    "name": "ipython",
    "version": 3
   },
   "file_extension": ".py",
   "mimetype": "text/x-python",
   "name": "python",
   "nbconvert_exporter": "python",
   "pygments_lexer": "ipython3",
   "version": "3.8.2-final"
  },
  "orig_nbformat": 2,
  "kernelspec": {
   "name": "python_defaultSpec_1598801202603",
   "display_name": "Python 3.8.2 64-bit"
  }
 },
 "nbformat": 4,
 "nbformat_minor": 2,
 "cells": [
  {
   "cell_type": "code",
   "execution_count": 10,
   "metadata": {},
   "outputs": [],
   "source": [
    "import math as m\n",
    "def karatsuba(x, y):\n",
    "    x = str(x)\n",
    "    y = str(y)\n",
    "    if len(x) == 1 and len(y) == 1:\n",
    "        return int(x) * int(y)\n",
    "    elif len(x) < len(y):\n",
    "        # add a zero to x\n",
    "        x = add_zeros(x, len(y) - len(x))\n",
    "    elif len(x) > len(y):\n",
    "        # add a zero to y\n",
    "        y = add_zeros(y, len(x) - len(y))\n",
    "    \n",
    "    \n",
    "    n = len(x)\n",
    "    if n % 2 != 0:\n",
    "        x = add_zeros(x, 1)\n",
    "        y = add_zeros(y, 1)\n",
    "        n = len(x)\n",
    "\n",
    "    dig = m.ceil(n/2)\n",
    "    a = int(x[:dig])\n",
    "    b = int(x[dig:])\n",
    "    c = int(y[:dig])\n",
    "    d = int(y[dig:])\n",
    "\n",
    "    ac = karatsuba(a, c)\n",
    "    bd = karatsuba(b, d)\n",
    "    adbc = karatsuba(a + b, c + d) - ac - bd\n",
    "    #print(\"a: {}, b:{}, c:{}, d:{}\".format(a, b, c, d))\n",
    "    ans = ((10 ** n) * ac) + ((10 ** (n/2)) * adbc) + bd\n",
    "    #print(ans)\n",
    "    return ans\n",
    "\n",
    "    ## 10 ** n/2 breake when n is 1\n",
    "\n",
    "def add_zeros(number, zeros):\n",
    "    for i in range(zeros):\n",
    "        x = '0' + number\n",
    "    return x"
   ]
  },
  {
   "cell_type": "code",
   "execution_count": 14,
   "metadata": {
    "tags": []
   },
   "outputs": [
    {
     "output_type": "execute_result",
     "data": {
      "text/plain": "7006652.0"
     },
     "metadata": {},
     "execution_count": 14
    }
   ],
   "source": [
    "karatsuba(1234, 5678)"
   ]
  },
  {
   "cell_type": "code",
   "execution_count": 12,
   "metadata": {
    "tags": []
   },
   "outputs": [
    {
     "output_type": "execute_result",
     "data": {
      "text/plain": "8539734222673568132630552817124543303384443810782743410108121461153273869248724694809717341559380988311547488086466295603658752"
     },
     "metadata": {},
     "execution_count": 12
    }
   ],
   "source": [
    "int(karatsuba(3141592653589793238462643383279502884197169399375105820974944592, 2718281828459045235360287471352662497757247093699959574966967627))"
   ]
  }
 ]
}